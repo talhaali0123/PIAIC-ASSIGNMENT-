{
 "cells": [
  {
   "cell_type": "markdown",
   "metadata": {},
   "source": [
    "## 1. Calculate Area of a Circle"
   ]
  },
  {
   "cell_type": "markdown",
   "metadata": {},
   "source": [
    "#### Write a Python program which accepts the radius of a circle from the user and compute the area.\n",
    "###### Program Console Sample Output 1:\n",
    "###### Input Radius: 0.5\n",
    "###### Area of Circle with radius 0.5 is 0.7853981634"
   ]
  },
  {
   "cell_type": "code",
   "execution_count": 1,
   "metadata": {},
   "outputs": [
    {
     "name": "stdout",
     "output_type": "stream",
     "text": [
      "Input Radius:0.5\n",
      "Area of Circle with radius 0.5 is 0.7853981633974483\n"
     ]
    }
   ],
   "source": [
    "import math\n",
    "radius=float(input(\"Input Radius:\"))\n",
    "area=math.pi*(radius)**2\n",
    "print(\"Area of Circle with radius\",radius,\"is\",area)"
   ]
  },
  {
   "cell_type": "code",
   "execution_count": null,
   "metadata": {},
   "outputs": [],
   "source": []
  },
  {
   "cell_type": "code",
   "execution_count": null,
   "metadata": {},
   "outputs": [],
   "source": []
  },
  {
   "cell_type": "markdown",
   "metadata": {},
   "source": [
    "## 2. Check Number either positive, negative or zero"
   ]
  },
  {
   "cell_type": "markdown",
   "metadata": {},
   "source": [
    "#### Write a Python program to check if a number is positive, negative or zero\n",
    "###### Program Console Sample Output 1:\n",
    "###### Enter Number: -1\n",
    "##### Negative Number Entered\n",
    "###### Program Console Sample Output 2:\n",
    "##### Integer: 3\n",
    "##### Positive Number Entered\n",
    "###### Program Console Sample Output 3:\n",
    "##### Integer: 0\n",
    "###### Zero Entered"
   ]
  },
  {
   "cell_type": "code",
   "execution_count": 4,
   "metadata": {},
   "outputs": [
    {
     "name": "stdout",
     "output_type": "stream",
     "text": [
      "Integer:-1\n",
      "Negative Number Entered\n"
     ]
    }
   ],
   "source": [
    "num=int(input(\"Integer:\"))\n",
    "if num==0:\n",
    "    print(\"Zero Entered\")\n",
    "elif num<0:\n",
    "    print(\"Negative Number Entered\")\n",
    "elif num>0:\n",
    "    print(\"Positive Number Entered\")"
   ]
  },
  {
   "cell_type": "code",
   "execution_count": 2,
   "metadata": {},
   "outputs": [
    {
     "name": "stdout",
     "output_type": "stream",
     "text": [
      "Integer:3\n",
      "Positive Number Entered\n"
     ]
    }
   ],
   "source": [
    "num=int(input(\"Integer:\"))\n",
    "if num==0:\n",
    "    print(\"Zero Entered\")\n",
    "elif num<0:\n",
    "    print(\"Negative Number Entered\")\n",
    "elif num>0:\n",
    "    print(\"Positive Number Entered\")"
   ]
  },
  {
   "cell_type": "code",
   "execution_count": 3,
   "metadata": {},
   "outputs": [
    {
     "name": "stdout",
     "output_type": "stream",
     "text": [
      "Integer:0\n",
      "Zero Entered\n"
     ]
    }
   ],
   "source": [
    "num=int(input(\"Integer:\"))\n",
    "if num==0:\n",
    "    print(\"Zero Entered\")\n",
    "elif num<0:\n",
    "    print(\"Negative Number Entered\")\n",
    "elif num>0:\n",
    "    print(\"Positive Number Entered\")"
   ]
  },
  {
   "cell_type": "code",
   "execution_count": null,
   "metadata": {},
   "outputs": [],
   "source": []
  },
  {
   "cell_type": "markdown",
   "metadata": {},
   "source": [
    "## 3. Divisibility Check of two numbers"
   ]
  },
  {
   "cell_type": "markdown",
   "metadata": {},
   "source": [
    "#### Write a Python program to check whether a number is completely divisible by another number. Accept two integer values form the user\n",
    "##### Program Console Sample Output 1:\n",
    "###### Enter numerator: 4\n",
    "###### Enter Denominator: 2\n",
    "##### Number 4 is Completely divisible by 2\n",
    "###### Program Console Sample Output 2:\n",
    "##### Enter numerator: 7\n",
    "\n",
    "##### Enter Denominator: 4\n",
    "###### Number 7 is not Completely divisible by 4"
   ]
  },
  {
   "cell_type": "code",
   "execution_count": 5,
   "metadata": {},
   "outputs": [
    {
     "name": "stdout",
     "output_type": "stream",
     "text": [
      "Enter numerator:4\n",
      "Enter Denominator:2\n",
      "Number 4 is Completely divisible by 2\n"
     ]
    }
   ],
   "source": [
    "Numerator=int(input(\"Enter numerator:\"))\n",
    "Denominator=int(input(\"Enter Denominator:\"))\n",
    "if Numerator%Denominator==0:\n",
    "    print(\"Number\",Numerator,\"is Completely divisible by\",Denominator)\n",
    "else:\n",
    "    print(\"Number\",Numerator,\"is not Completely divisible by\",Denominator)"
   ]
  },
  {
   "cell_type": "code",
   "execution_count": 6,
   "metadata": {},
   "outputs": [
    {
     "name": "stdout",
     "output_type": "stream",
     "text": [
      "Enter numerator:7\n",
      "Enter Denominator:4\n",
      "Number 7 is not Completely divisible by 4\n"
     ]
    }
   ],
   "source": [
    "Numerator=int(input(\"Enter numerator:\"))\n",
    "Denominator=int(input(\"Enter Denominator:\"))\n",
    "if Numerator%Denominator==0:\n",
    "    print(\"Number\",Numerator,\"is Completely divisible by\",Denominator)\n",
    "else:\n",
    "    print(\"Number\",Numerator,\"is not Completely divisible by\",Denominator)"
   ]
  },
  {
   "cell_type": "code",
   "execution_count": null,
   "metadata": {},
   "outputs": [],
   "source": []
  },
  {
   "cell_type": "code",
   "execution_count": null,
   "metadata": {},
   "outputs": [],
   "source": []
  },
  {
   "cell_type": "code",
   "execution_count": null,
   "metadata": {},
   "outputs": [],
   "source": []
  },
  {
   "cell_type": "code",
   "execution_count": null,
   "metadata": {},
   "outputs": [],
   "source": []
  },
  {
   "cell_type": "markdown",
   "metadata": {},
   "source": [
    "## 4. Calculate Volume of a sphere"
   ]
  },
  {
   "cell_type": "markdown",
   "metadata": {},
   "source": [
    "##### Write a Python program to get the volume of a sphere, please take the radius as input from user"
   ]
  },
  {
   "cell_type": "markdown",
   "metadata": {},
   "source": [
    "##### Program Console Output:\n",
    "##### Enter Radius of Sphere: 1\n",
    "###### Volume of the Sphere with Radius 1 is 4.18"
   ]
  },
  {
   "cell_type": "code",
   "execution_count": 7,
   "metadata": {},
   "outputs": [
    {
     "name": "stdout",
     "output_type": "stream",
     "text": [
      "Enter Radius of Sphere:1\n",
      "Volume of the Sphere with Radius 1.0 is 4.1887902047863905\n"
     ]
    }
   ],
   "source": [
    "import math\n",
    "radius=float(input(\"Enter Radius of Sphere:\"))\n",
    "Volume=(4/3)*math.pi*(radius)**3\n",
    "print(\"Volume of the Sphere with Radius\",radius,\"is\",Volume)"
   ]
  },
  {
   "cell_type": "code",
   "execution_count": null,
   "metadata": {},
   "outputs": [],
   "source": []
  },
  {
   "cell_type": "code",
   "execution_count": null,
   "metadata": {},
   "outputs": [],
   "source": []
  },
  {
   "cell_type": "code",
   "execution_count": null,
   "metadata": {},
   "outputs": [],
   "source": []
  },
  {
   "cell_type": "code",
   "execution_count": null,
   "metadata": {},
   "outputs": [],
   "source": []
  },
  {
   "cell_type": "markdown",
   "metadata": {},
   "source": [
    "## 5. Copy string n times\n",
    "#### Write a Python program to get a string which is n (non-negative integer) copies of a given string.\n",
    "##### Program Console Output:\n",
    "##### Enter String: Hi\n",
    "###### How many copies of String you need: 4\n",
    "###### 4 Copies of Hi are HiHiHiHi"
   ]
  },
  {
   "cell_type": "code",
   "execution_count": 8,
   "metadata": {},
   "outputs": [
    {
     "name": "stdout",
     "output_type": "stream",
     "text": [
      "Enter String:Hi\n",
      "How many copies of String you need:4\n",
      "4 Copies of Hi are HiHiHiHi\n"
     ]
    }
   ],
   "source": [
    "string=input(\"Enter String:\")\n",
    "copies=int(input(\"How many copies of String you need:\"))\n",
    "print(copies,\"Copies of\",string,\"are\",string*copies)"
   ]
  },
  {
   "cell_type": "code",
   "execution_count": null,
   "metadata": {},
   "outputs": [],
   "source": []
  },
  {
   "cell_type": "code",
   "execution_count": null,
   "metadata": {},
   "outputs": [],
   "source": []
  },
  {
   "cell_type": "code",
   "execution_count": null,
   "metadata": {},
   "outputs": [],
   "source": []
  },
  {
   "cell_type": "code",
   "execution_count": null,
   "metadata": {},
   "outputs": [],
   "source": []
  },
  {
   "cell_type": "markdown",
   "metadata": {},
   "source": [
    "## 6. Check if number is Even or Odd\n",
    "### Write a Python program to find whether a given number (accept from the user) is even or odd, print out an appropriate message to the user\n",
    "#### Program Console Output 1:\n",
    "##### Enter Number: 4\n",
    "###### 4 is Even\n",
    "#### Program Console Output 2:\n",
    "##### Enter Number: 9\n",
    "###### 9 is Odd"
   ]
  },
  {
   "cell_type": "code",
   "execution_count": 9,
   "metadata": {},
   "outputs": [
    {
     "name": "stdout",
     "output_type": "stream",
     "text": [
      "Enter Number:4\n",
      "4 is Even\n"
     ]
    }
   ],
   "source": [
    "Num=int(input(\"Enter Number:\"))\n",
    "if Num%2==0:\n",
    "    print(Num,\"is Even\")\n",
    "elif Num%2!=0:\n",
    "    print(Num,\"is Odd\")"
   ]
  },
  {
   "cell_type": "code",
   "execution_count": 10,
   "metadata": {},
   "outputs": [
    {
     "name": "stdout",
     "output_type": "stream",
     "text": [
      "Enter Number:9\n",
      "9 is Odd\n"
     ]
    }
   ],
   "source": [
    "Num=int(input(\"Enter Number:\"))\n",
    "if Num%2==0:\n",
    "    print(Num,\"is Even\")\n",
    "elif Num%2!=0:\n",
    "    print(Num,\"is Odd\")"
   ]
  },
  {
   "cell_type": "code",
   "execution_count": null,
   "metadata": {},
   "outputs": [],
   "source": []
  },
  {
   "cell_type": "code",
   "execution_count": null,
   "metadata": {},
   "outputs": [],
   "source": []
  },
  {
   "cell_type": "code",
   "execution_count": null,
   "metadata": {},
   "outputs": [],
   "source": []
  },
  {
   "cell_type": "markdown",
   "metadata": {},
   "source": [
    "## 7. Vowel Tester\n",
    "### Write a Python program to test whether a passed letter is a vowel or not\n",
    "#### Program Console Output 1:\n",
    "##### Enter a character: A\n",
    "###### Letter A is Vowel\n",
    "#### Program Console Output 2:\n",
    "##### Enter a character: e\n",
    "###### Letter e is Vowel\n",
    "#### Program Console Output 2:\n",
    "##### Enter a character: N\n",
    "###### Letter N is not Vowel"
   ]
  },
  {
   "cell_type": "code",
   "execution_count": 11,
   "metadata": {},
   "outputs": [
    {
     "name": "stdout",
     "output_type": "stream",
     "text": [
      "Enter a character:A\n",
      "Letter A is Vowel\n"
     ]
    }
   ],
   "source": [
    "vowel=input(\"Enter a character:\")\n",
    "if vowel=='a' or vowel=='A':\n",
    "    print(\"Letter\",vowel,\"is Vowel\")\n",
    "elif vowel=='e' or vowel=='E':\n",
    "    print(\"Letter\",vowel,\"is Vowel\")\n",
    "elif vowel=='i' or vowel=='I':\n",
    "    print(\"Letter\",vowel,\"is Vowel\")\n",
    "elif vowel=='o' or vowel=='O':\n",
    "    print(\"Letter\",vowel,\"is Vowel\")\n",
    "elif vowel=='u' or vowel=='U':\n",
    "    print(\"Letter\",vowel,\"is Vowel\")\n",
    "else:\n",
    "    print(\"Letter\",vowel,\"is not Vowel\")\n",
    "    "
   ]
  },
  {
   "cell_type": "code",
   "execution_count": 12,
   "metadata": {},
   "outputs": [
    {
     "name": "stdout",
     "output_type": "stream",
     "text": [
      "Enter a character:e\n",
      "Letter e is Vowel\n"
     ]
    }
   ],
   "source": [
    "vowel=input(\"Enter a character:\")\n",
    "if vowel=='a' or vowel=='A':\n",
    "    print(\"Letter\",vowel,\"is Vowel\")\n",
    "elif vowel=='e' or vowel=='E':\n",
    "    print(\"Letter\",vowel,\"is Vowel\")\n",
    "elif vowel=='i' or vowel=='I':\n",
    "    print(\"Letter\",vowel,\"is Vowel\")\n",
    "elif vowel=='o' or vowel=='O':\n",
    "    print(\"Letter\",vowel,\"is Vowel\")\n",
    "elif vowel=='u' or vowel=='U':\n",
    "    print(\"Letter\",vowel,\"is Vowel\")\n",
    "else:\n",
    "    print(\"Letter\",vowel,\"is not Vowel\")"
   ]
  },
  {
   "cell_type": "code",
   "execution_count": 13,
   "metadata": {},
   "outputs": [
    {
     "name": "stdout",
     "output_type": "stream",
     "text": [
      "Enter a character:N\n",
      "Letter N is not Vowel\n"
     ]
    }
   ],
   "source": [
    "vowel=input(\"Enter a character:\")\n",
    "if vowel=='a' or vowel=='A':\n",
    "    print(\"Letter\",vowel,\"is Vowel\")\n",
    "elif vowel=='e' or vowel=='E':\n",
    "    print(\"Letter\",vowel,\"is Vowel\")\n",
    "elif vowel=='i' or vowel=='I':\n",
    "    print(\"Letter\",vowel,\"is Vowel\")\n",
    "elif vowel=='o' or vowel=='O':\n",
    "    print(\"Letter\",vowel,\"is Vowel\")\n",
    "elif vowel=='u' or vowel=='U':\n",
    "    print(\"Letter\",vowel,\"is Vowel\")\n",
    "else:\n",
    "    print(\"Letter\",vowel,\"is not Vowel\")"
   ]
  },
  {
   "cell_type": "code",
   "execution_count": null,
   "metadata": {},
   "outputs": [],
   "source": []
  },
  {
   "cell_type": "markdown",
   "metadata": {},
   "source": [
    "## 8. Triangle area\n",
    "### Write a Python program that will accept the base and height of a triangle and compute the area\n",
    "###### Reference:\n",
    "https://www.mathgoodies.com/lessons/vol1/area_triangle"
   ]
  },
  {
   "cell_type": "code",
   "execution_count": 14,
   "metadata": {},
   "outputs": [
    {
     "name": "stdout",
     "output_type": "stream",
     "text": [
      "enter base:45\n",
      "enter height:43\n",
      "Area of Triangle is 967.5\n"
     ]
    }
   ],
   "source": [
    "base=float(input(\"enter base:\"))\n",
    "height=float(input(\"enter height:\"))\n",
    "print(\"Area of Triangle is\",0.5*base*height)"
   ]
  },
  {
   "cell_type": "code",
   "execution_count": null,
   "metadata": {},
   "outputs": [],
   "source": []
  },
  {
   "cell_type": "code",
   "execution_count": null,
   "metadata": {},
   "outputs": [],
   "source": []
  },
  {
   "cell_type": "code",
   "execution_count": null,
   "metadata": {},
   "outputs": [],
   "source": []
  },
  {
   "cell_type": "markdown",
   "metadata": {},
   "source": [
    "## 9. Calculate Interest\n",
    "### Write a Python program to compute the future value of a specified principal amount, rate of interest, and a number of years\n",
    "#### Program Console Sample 1:\n",
    "##### Please enter principal amount: 10000\n",
    "###### Please Enter Rate of interest in %: 0.1\n",
    "###### Enter number of years for investment: 5\n",
    "###### After 5 years your principal amount 10000 over an interest rate of 0.1 % will be 16105.1"
   ]
  },
  {
   "cell_type": "code",
   "execution_count": 21,
   "metadata": {},
   "outputs": [
    {
     "name": "stdout",
     "output_type": "stream",
     "text": [
      "Please Enter Principal Amount: 10000\n",
      "Please Enter Rate Of Interest In %: 0.1\n",
      "Enter Number Of Years For Investment: 5\n",
      "After  5  Year An Interest Rate Of  0.1  Will Be  16105.100000000008\n"
     ]
    }
   ],
   "source": [
    "amount=int(input(\"Please Enter Principal Amount: \"))\n",
    "interest=float(input(\"Please Enter Rate Of Interest In %: \"))\n",
    "investment=int(input(\"Enter Number Of Years For Investment: \"))\n",
    "for i in range(investment):\n",
    "    amount = amount * (1+interest)\n",
    "print(\"After \",investment,\" Year An Interest Rate Of \",interest,\" Will Be \",amount)"
   ]
  },
  {
   "cell_type": "code",
   "execution_count": null,
   "metadata": {},
   "outputs": [],
   "source": []
  },
  {
   "cell_type": "code",
   "execution_count": null,
   "metadata": {},
   "outputs": [],
   "source": []
  },
  {
   "cell_type": "code",
   "execution_count": null,
   "metadata": {},
   "outputs": [],
   "source": []
  },
  {
   "cell_type": "code",
   "execution_count": null,
   "metadata": {},
   "outputs": [],
   "source": []
  },
  {
   "cell_type": "code",
   "execution_count": null,
   "metadata": {},
   "outputs": [],
   "source": []
  },
  {
   "cell_type": "markdown",
   "metadata": {},
   "source": [
    "## 10. Euclidean distance\n",
    "### write a Python program to compute the distance between the points (x1, y1) and (x2, y2).\n",
    "#### Program Console Sample 1:\n",
    "###### Enter Co-ordinate for x1: 2\n",
    "###### Enter Co-ordinate for x2: 4\n",
    "###### Enter Co-ordinate for y1: 4\n",
    "###### Enter Co-ordinate for y2: 4\n",
    "###### Distance between points (2, 4) and (4, 4) is 2"
   ]
  },
  {
   "cell_type": "markdown",
   "metadata": {},
   "source": [
    "###### Reference:\n",
    "https://en.wikipedia.org/wiki/Euclidean_distance"
   ]
  },
  {
   "cell_type": "code",
   "execution_count": 15,
   "metadata": {},
   "outputs": [
    {
     "name": "stdout",
     "output_type": "stream",
     "text": [
      "Enter Co-ordinate for x1:2\n",
      "Enter Co-ordinate for x2:4\n",
      "Enter Co-ordinate for y1:4\n",
      "Enter Co-ordinate for y2:4\n",
      "Distance between points (2,4) and (4,4) is 2\n"
     ]
    }
   ],
   "source": [
    "x1=int(input(\"Enter Co-ordinate for x1:\"))\n",
    "x2=int(input(\"Enter Co-ordinate for x2:\"))\n",
    "y1=int(input(\"Enter Co-ordinate for y1:\"))\n",
    "y2=int(input(\"Enter Co-ordinate for y2:\"))\n",
    "ans=int(((y1-x1)**2+(y2-x2)**2)**(0.5))\n",
    "print(\"Distance between points (\"+str(x1)+\",\"+str(x2)+\") and (\"+str(y1)+\",\"+str(y2)+\") is\",ans)\n"
   ]
  },
  {
   "cell_type": "code",
   "execution_count": null,
   "metadata": {},
   "outputs": [],
   "source": []
  },
  {
   "cell_type": "code",
   "execution_count": null,
   "metadata": {},
   "outputs": [],
   "source": []
  },
  {
   "cell_type": "code",
   "execution_count": null,
   "metadata": {},
   "outputs": [],
   "source": []
  },
  {
   "cell_type": "markdown",
   "metadata": {},
   "source": [
    "## 11. Feet to Centimeter Converter\n",
    "### Write a Python program to convert height in feet to centimetres.\n",
    "##### Program Console Sample 1:\n",
    "###### Enter Height in Feet: 5\n",
    "###### There are 152.4 Cm in 5 ft\n",
    "###### Reference:\n",
    "https://www.rapidtables.com/convert/length/feet-to-cm.html"
   ]
  },
  {
   "cell_type": "code",
   "execution_count": 16,
   "metadata": {},
   "outputs": [
    {
     "name": "stdout",
     "output_type": "stream",
     "text": [
      "Enter Height in Feet:5\n",
      "There are 152.4 Cm in 5 ft\n"
     ]
    }
   ],
   "source": [
    "height=int(input(\"Enter Height in Feet:\"))\n",
    "print(\"There are\",30.48*height,\"Cm in\",height,\"ft\")"
   ]
  },
  {
   "cell_type": "code",
   "execution_count": null,
   "metadata": {},
   "outputs": [],
   "source": []
  },
  {
   "cell_type": "code",
   "execution_count": null,
   "metadata": {},
   "outputs": [],
   "source": []
  },
  {
   "cell_type": "code",
   "execution_count": null,
   "metadata": {},
   "outputs": [],
   "source": []
  },
  {
   "cell_type": "markdown",
   "metadata": {},
   "source": [
    "## 12. BMI Calculator\n",
    "### Write a Python program to calculate body mass index\n",
    "##### Program Console Sample 1:\n",
    "###### Enter Height in Cm: 180\n",
    "###### Enter Weight in Kg: 75\n",
    "###### Your BMI is 23.15"
   ]
  },
  {
   "cell_type": "code",
   "execution_count": 17,
   "metadata": {},
   "outputs": [
    {
     "name": "stdout",
     "output_type": "stream",
     "text": [
      "Enter Height in Cm:180\n",
      "Enter Weight in Kg:75\n",
      "Your BMI is 23.148148148148145\n"
     ]
    }
   ],
   "source": [
    "height=int(input(\"Enter Height in Cm:\"))\n",
    "weight=int(input(\"Enter Weight in Kg:\"))\n",
    "ans=float(weight/((height*0.01)**2))\n",
    "print(\"Your BMI is\",ans)"
   ]
  },
  {
   "cell_type": "code",
   "execution_count": null,
   "metadata": {},
   "outputs": [],
   "source": []
  },
  {
   "cell_type": "code",
   "execution_count": null,
   "metadata": {},
   "outputs": [],
   "source": []
  },
  {
   "cell_type": "markdown",
   "metadata": {},
   "source": [
    "## 13. Sum of n Positive Integers\n",
    "### Write a python program to sum of the first n positive integers\n",
    "#### Program Console Sample 1:\n",
    "###### Enter value of n: 5\n",
    "###### Sum of n Positive integers till 5 is 15"
   ]
  },
  {
   "cell_type": "code",
   "execution_count": 18,
   "metadata": {},
   "outputs": [
    {
     "name": "stdout",
     "output_type": "stream",
     "text": [
      "Enter value of n:5\n",
      "Sum of n Positive integers till 5 is 15\n"
     ]
    }
   ],
   "source": [
    "num=int(input(\"Enter value of n:\"))\n",
    "sum_num=0\n",
    "for i in range(num+1):\n",
    "    sum_num=sum_num+i\n",
    "print(\"Sum of n Positive integers till\",num,\"is\",sum_num)"
   ]
  },
  {
   "cell_type": "code",
   "execution_count": null,
   "metadata": {},
   "outputs": [],
   "source": []
  },
  {
   "cell_type": "code",
   "execution_count": null,
   "metadata": {},
   "outputs": [],
   "source": []
  },
  {
   "cell_type": "markdown",
   "metadata": {},
   "source": [
    "## 14. Digits Sum of a Number\n",
    "### Write a Python program to calculate the sum of the digits in an integer\n",
    "#### Program Console Sample 1:\n",
    "##### Enter a number: 15\n",
    "###### Sum of 1 + 5 is 6\n",
    "#### Program Console Sample 2:\n",
    "##### Enter a number: 1234\n",
    "###### Sum of 1 + 2 + 3 + 4 is 10"
   ]
  },
  {
   "cell_type": "code",
   "execution_count": 19,
   "metadata": {},
   "outputs": [
    {
     "name": "stdout",
     "output_type": "stream",
     "text": [
      "Enter A Number: 15\n",
      "Sum Is :  6\n"
     ]
    }
   ],
   "source": [
    "a = map(int,str(input('Enter A Number: ')))\n",
    "print(\"Sum Is : \",sum(a))"
   ]
  },
  {
   "cell_type": "code",
   "execution_count": 20,
   "metadata": {},
   "outputs": [
    {
     "name": "stdout",
     "output_type": "stream",
     "text": [
      "Enter A Number: 1234\n",
      "Sum Is :  10\n"
     ]
    }
   ],
   "source": [
    "a = map(int,str(input('Enter A Number: ')))\n",
    "print(\"Sum Is : \",sum(a))"
   ]
  },
  {
   "cell_type": "code",
   "execution_count": null,
   "metadata": {},
   "outputs": [],
   "source": []
  },
  {
   "cell_type": "code",
   "execution_count": null,
   "metadata": {},
   "outputs": [],
   "source": []
  },
  {
   "cell_type": "code",
   "execution_count": null,
   "metadata": {},
   "outputs": [],
   "source": []
  },
  {
   "cell_type": "code",
   "execution_count": null,
   "metadata": {},
   "outputs": [],
   "source": []
  },
  {
   "cell_type": "code",
   "execution_count": null,
   "metadata": {},
   "outputs": [],
   "source": []
  },
  {
   "cell_type": "code",
   "execution_count": null,
   "metadata": {},
   "outputs": [],
   "source": []
  }
 ],
 "metadata": {
  "kernelspec": {
   "display_name": "Python 3",
   "language": "python",
   "name": "python3"
  },
  "language_info": {
   "codemirror_mode": {
    "name": "ipython",
    "version": 3
   },
   "file_extension": ".py",
   "mimetype": "text/x-python",
   "name": "python",
   "nbconvert_exporter": "python",
   "pygments_lexer": "ipython3",
   "version": "3.7.3"
  }
 },
 "nbformat": 4,
 "nbformat_minor": 2
}
